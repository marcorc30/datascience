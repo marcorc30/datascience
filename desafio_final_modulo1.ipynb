{
 "cells": [
  {
   "cell_type": "markdown",
   "metadata": {},
   "source": [
    "# Desafio Módulo 1 - Bootcamp Alura em Data Science Aplicada"
   ]
  },
  {
   "cell_type": "markdown",
   "metadata": {},
   "source": [
    "## Objetivo: analisar a relação entre óbitos por causa gerais x óbitos por covid em São Paulo\n",
    "\n",
    "O objetivo dessa análise, é comparar a relação de óbitos entre causas gerais e óbitos por covid em São Paulo. Para isso vamos baixar os dados disponibilizados no DATASUS (https://datasus.saude.gov.br/) para obtermos os dados por mortes no geral, e os dados no portal Corona Virus Brasil (https://covid.saude.gov.br/) para obtermos os dados por morte devido ao corona vírus. Esses dados sobre a covid foram alimentados pelas Secretarias Estaduais de Saúde, e separados por dia, no período de março de 2020, mês que ocorreu o primeiro óbito por covid, até novembro de 2021 (última atualização). Já os dados de mortes em geral alimentados pelo SUS, são do período de Janeiro de 2008 até Setembro de 2021 (última atualização). Dessa forma, analisaremos os dados no período de Março de 2020 até Setembro de 2021 para realizar nosso trabaho.  \n",
    "  "
   ]
  },
  {
   "cell_type": "markdown",
   "metadata": {},
   "source": [
    "### Etapa 1: Carregar os dados do portal DATASUS, analisá-los e filtrar as informações de São Paulo. O arquivo foi baixado no TABNET, filtrando os dados pelas informações dos óbitos por ano/mês de processamento."
   ]
  },
  {
   "cell_type": "code",
   "execution_count": 1,
   "metadata": {},
   "outputs": [
    {
     "name": "stderr",
     "output_type": "stream",
     "text": [
      "/home/marco/anaconda3/lib/python3.7/site-packages/pandas/compat/_optional.py:138: UserWarning: Pandas requires version '2.7.0' or newer of 'numexpr' (version '2.6.9' currently installed).\n",
      "  warnings.warn(msg, UserWarning)\n"
     ]
    }
   ],
   "source": [
    "import pandas as pd\n",
    "import warnings\n",
    "import matplotlib.pyplot as plt\n",
    "import numpy as np\n",
    "\n",
    "warnings.filterwarnings('ignore')"
   ]
  },
  {
   "cell_type": "code",
   "execution_count": 2,
   "metadata": {},
   "outputs": [],
   "source": [
    "# Dados do ano e mês de processamento\n",
    "dados_obitos = pd.read_csv(\"A170120189_28_143_208.csv\", sep=\";\", encoding=\"ISO-8859-1\", \n",
    "                           skiprows = 3, skipfooter = 11 )\n",
    "\n",
    "# Dados do ano e mês de atendimento\n",
    "# dados_obitos = pd.read_csv(\"A180600189_28_143_208.csv\", sep=\";\", encoding=\"ISO-8859-1\", \n",
    "#                            skiprows = 3, skipfooter = 11 )\n",
    "\n",
    "\n"
   ]
  },
  {
   "cell_type": "code",
   "execution_count": 3,
   "metadata": {},
   "outputs": [
    {
     "data": {
      "text/html": [
       "<div>\n",
       "<style scoped>\n",
       "    .dataframe tbody tr th:only-of-type {\n",
       "        vertical-align: middle;\n",
       "    }\n",
       "\n",
       "    .dataframe tbody tr th {\n",
       "        vertical-align: top;\n",
       "    }\n",
       "\n",
       "    .dataframe thead th {\n",
       "        text-align: right;\n",
       "    }\n",
       "</style>\n",
       "<table border=\"1\" class=\"dataframe\">\n",
       "  <thead>\n",
       "    <tr style=\"text-align: right;\">\n",
       "      <th></th>\n",
       "      <th>2008/Jan</th>\n",
       "      <th>2008/Fev</th>\n",
       "      <th>2008/Mar</th>\n",
       "      <th>2008/Abr</th>\n",
       "      <th>2008/Mai</th>\n",
       "      <th>2008/Jun</th>\n",
       "      <th>2008/Jul</th>\n",
       "      <th>2008/Ago</th>\n",
       "      <th>2008/Set</th>\n",
       "      <th>2008/Out</th>\n",
       "      <th>...</th>\n",
       "      <th>2021/Jan</th>\n",
       "      <th>2021/Fev</th>\n",
       "      <th>2021/Mar</th>\n",
       "      <th>2021/Abr</th>\n",
       "      <th>2021/Mai</th>\n",
       "      <th>2021/Jun</th>\n",
       "      <th>2021/Jul</th>\n",
       "      <th>2021/Ago</th>\n",
       "      <th>2021/Set</th>\n",
       "      <th>Total</th>\n",
       "    </tr>\n",
       "    <tr>\n",
       "      <th>Região/Unidade da Federação</th>\n",
       "      <th></th>\n",
       "      <th></th>\n",
       "      <th></th>\n",
       "      <th></th>\n",
       "      <th></th>\n",
       "      <th></th>\n",
       "      <th></th>\n",
       "      <th></th>\n",
       "      <th></th>\n",
       "      <th></th>\n",
       "      <th></th>\n",
       "      <th></th>\n",
       "      <th></th>\n",
       "      <th></th>\n",
       "      <th></th>\n",
       "      <th></th>\n",
       "      <th></th>\n",
       "      <th></th>\n",
       "      <th></th>\n",
       "      <th></th>\n",
       "      <th></th>\n",
       "    </tr>\n",
       "  </thead>\n",
       "  <tbody>\n",
       "    <tr>\n",
       "      <th>Região Norte</th>\n",
       "      <td>1008</td>\n",
       "      <td>1329</td>\n",
       "      <td>1406</td>\n",
       "      <td>1278</td>\n",
       "      <td>1243</td>\n",
       "      <td>1299</td>\n",
       "      <td>1572</td>\n",
       "      <td>1455</td>\n",
       "      <td>1512</td>\n",
       "      <td>1421</td>\n",
       "      <td>...</td>\n",
       "      <td>3666</td>\n",
       "      <td>4318</td>\n",
       "      <td>5413</td>\n",
       "      <td>5196</td>\n",
       "      <td>5131</td>\n",
       "      <td>3910</td>\n",
       "      <td>3446</td>\n",
       "      <td>3083</td>\n",
       "      <td>1575</td>\n",
       "      <td>344104</td>\n",
       "    </tr>\n",
       "    <tr>\n",
       "      <th>Rondônia</th>\n",
       "      <td>57</td>\n",
       "      <td>99</td>\n",
       "      <td>45</td>\n",
       "      <td>43</td>\n",
       "      <td>54</td>\n",
       "      <td>47</td>\n",
       "      <td>109</td>\n",
       "      <td>114</td>\n",
       "      <td>105</td>\n",
       "      <td>124</td>\n",
       "      <td>...</td>\n",
       "      <td>446</td>\n",
       "      <td>427</td>\n",
       "      <td>812</td>\n",
       "      <td>736</td>\n",
       "      <td>645</td>\n",
       "      <td>533</td>\n",
       "      <td>392</td>\n",
       "      <td>350</td>\n",
       "      <td>304</td>\n",
       "      <td>40403</td>\n",
       "    </tr>\n",
       "    <tr>\n",
       "      <th>Acre</th>\n",
       "      <td>30</td>\n",
       "      <td>94</td>\n",
       "      <td>76</td>\n",
       "      <td>103</td>\n",
       "      <td>94</td>\n",
       "      <td>71</td>\n",
       "      <td>114</td>\n",
       "      <td>116</td>\n",
       "      <td>104</td>\n",
       "      <td>77</td>\n",
       "      <td>...</td>\n",
       "      <td>143</td>\n",
       "      <td>188</td>\n",
       "      <td>205</td>\n",
       "      <td>335</td>\n",
       "      <td>309</td>\n",
       "      <td>121</td>\n",
       "      <td>223</td>\n",
       "      <td>182</td>\n",
       "      <td>-</td>\n",
       "      <td>19785</td>\n",
       "    </tr>\n",
       "    <tr>\n",
       "      <th>Amazonas</th>\n",
       "      <td>149</td>\n",
       "      <td>243</td>\n",
       "      <td>312</td>\n",
       "      <td>320</td>\n",
       "      <td>240</td>\n",
       "      <td>270</td>\n",
       "      <td>288</td>\n",
       "      <td>284</td>\n",
       "      <td>254</td>\n",
       "      <td>228</td>\n",
       "      <td>...</td>\n",
       "      <td>1338</td>\n",
       "      <td>1637</td>\n",
       "      <td>1898</td>\n",
       "      <td>1218</td>\n",
       "      <td>897</td>\n",
       "      <td>881</td>\n",
       "      <td>854</td>\n",
       "      <td>684</td>\n",
       "      <td>585</td>\n",
       "      <td>70213</td>\n",
       "    </tr>\n",
       "    <tr>\n",
       "      <th>Roraima</th>\n",
       "      <td>23</td>\n",
       "      <td>21</td>\n",
       "      <td>23</td>\n",
       "      <td>38</td>\n",
       "      <td>26</td>\n",
       "      <td>24</td>\n",
       "      <td>38</td>\n",
       "      <td>29</td>\n",
       "      <td>34</td>\n",
       "      <td>62</td>\n",
       "      <td>...</td>\n",
       "      <td>190</td>\n",
       "      <td>322</td>\n",
       "      <td>299</td>\n",
       "      <td>210</td>\n",
       "      <td>168</td>\n",
       "      <td>180</td>\n",
       "      <td>188</td>\n",
       "      <td>190</td>\n",
       "      <td>156</td>\n",
       "      <td>13570</td>\n",
       "    </tr>\n",
       "  </tbody>\n",
       "</table>\n",
       "<p>5 rows × 166 columns</p>\n",
       "</div>"
      ],
      "text/plain": [
       "                             2008/Jan  2008/Fev  2008/Mar  2008/Abr  2008/Mai  \\\n",
       "Região/Unidade da Federação                                                     \n",
       "Região Norte                     1008      1329      1406      1278      1243   \n",
       "Rondônia                           57        99        45        43        54   \n",
       "Acre                               30        94        76       103        94   \n",
       "Amazonas                          149       243       312       320       240   \n",
       "Roraima                            23        21        23        38        26   \n",
       "\n",
       "                             2008/Jun  2008/Jul  2008/Ago  2008/Set  2008/Out  \\\n",
       "Região/Unidade da Federação                                                     \n",
       "Região Norte                     1299      1572      1455      1512      1421   \n",
       "Rondônia                           47       109       114       105       124   \n",
       "Acre                               71       114       116       104        77   \n",
       "Amazonas                          270       288       284       254       228   \n",
       "Roraima                            24        38        29        34        62   \n",
       "\n",
       "                             ...  2021/Jan  2021/Fev  2021/Mar  2021/Abr  \\\n",
       "Região/Unidade da Federação  ...                                           \n",
       "Região Norte                 ...      3666      4318      5413      5196   \n",
       "Rondônia                     ...       446       427       812       736   \n",
       "Acre                         ...       143       188       205       335   \n",
       "Amazonas                     ...      1338      1637      1898      1218   \n",
       "Roraima                      ...       190       322       299       210   \n",
       "\n",
       "                             2021/Mai  2021/Jun  2021/Jul  2021/Ago  2021/Set  \\\n",
       "Região/Unidade da Federação                                                     \n",
       "Região Norte                     5131      3910      3446      3083      1575   \n",
       "Rondônia                          645       533       392       350       304   \n",
       "Acre                              309       121       223       182         -   \n",
       "Amazonas                          897       881       854       684       585   \n",
       "Roraima                           168       180       188       190       156   \n",
       "\n",
       "                              Total  \n",
       "Região/Unidade da Federação          \n",
       "Região Norte                 344104  \n",
       "Rondônia                      40403  \n",
       "Acre                          19785  \n",
       "Amazonas                      70213  \n",
       "Roraima                       13570  \n",
       "\n",
       "[5 rows x 166 columns]"
      ]
     },
     "execution_count": 3,
     "metadata": {},
     "output_type": "execute_result"
    }
   ],
   "source": [
    "# Tratando a  coluna Região/Unidade da Federação, retirando os pontos e espaços em brancos e \n",
    "# convertendo a coluna em índice\n",
    "dados_obitos['Região/Unidade da Federação'] = [x.replace(\"..\", \"\").strip() for x in dados_obitos['Região/Unidade da Federação']]\n",
    "dados_obitos.set_index('Região/Unidade da Federação', inplace=True)\n",
    "dados_obitos.head()"
   ]
  },
  {
   "cell_type": "code",
   "execution_count": 44,
   "metadata": {},
   "outputs": [
    {
     "data": {
      "text/html": [
       "<div>\n",
       "<style scoped>\n",
       "    .dataframe tbody tr th:only-of-type {\n",
       "        vertical-align: middle;\n",
       "    }\n",
       "\n",
       "    .dataframe tbody tr th {\n",
       "        vertical-align: top;\n",
       "    }\n",
       "\n",
       "    .dataframe thead th {\n",
       "        text-align: right;\n",
       "    }\n",
       "</style>\n",
       "<table border=\"1\" class=\"dataframe\">\n",
       "  <thead>\n",
       "    <tr style=\"text-align: right;\">\n",
       "      <th></th>\n",
       "      <th>2020/Jan</th>\n",
       "      <th>2020/Fev</th>\n",
       "      <th>2020/Mar</th>\n",
       "      <th>2020/Abr</th>\n",
       "      <th>2020/Mai</th>\n",
       "      <th>2020/Jun</th>\n",
       "      <th>2020/Jul</th>\n",
       "      <th>2020/Ago</th>\n",
       "      <th>2020/Set</th>\n",
       "      <th>2020/Out</th>\n",
       "      <th>...</th>\n",
       "      <th>2020/Dez</th>\n",
       "      <th>2021/Jan</th>\n",
       "      <th>2021/Fev</th>\n",
       "      <th>2021/Mar</th>\n",
       "      <th>2021/Abr</th>\n",
       "      <th>2021/Mai</th>\n",
       "      <th>2021/Jun</th>\n",
       "      <th>2021/Jul</th>\n",
       "      <th>2021/Ago</th>\n",
       "      <th>2021/Set</th>\n",
       "    </tr>\n",
       "    <tr>\n",
       "      <th>Região/Unidade da Federação</th>\n",
       "      <th></th>\n",
       "      <th></th>\n",
       "      <th></th>\n",
       "      <th></th>\n",
       "      <th></th>\n",
       "      <th></th>\n",
       "      <th></th>\n",
       "      <th></th>\n",
       "      <th></th>\n",
       "      <th></th>\n",
       "      <th></th>\n",
       "      <th></th>\n",
       "      <th></th>\n",
       "      <th></th>\n",
       "      <th></th>\n",
       "      <th></th>\n",
       "      <th></th>\n",
       "      <th></th>\n",
       "      <th></th>\n",
       "      <th></th>\n",
       "      <th></th>\n",
       "    </tr>\n",
       "  </thead>\n",
       "  <tbody>\n",
       "    <tr>\n",
       "      <th>Região Norte</th>\n",
       "      <td>2393</td>\n",
       "      <td>2395</td>\n",
       "      <td>2345</td>\n",
       "      <td>2335</td>\n",
       "      <td>3903</td>\n",
       "      <td>5025</td>\n",
       "      <td>3842</td>\n",
       "      <td>3632</td>\n",
       "      <td>2948</td>\n",
       "      <td>2587</td>\n",
       "      <td>...</td>\n",
       "      <td>2700</td>\n",
       "      <td>3666</td>\n",
       "      <td>4318</td>\n",
       "      <td>5413</td>\n",
       "      <td>5196</td>\n",
       "      <td>5131</td>\n",
       "      <td>3910</td>\n",
       "      <td>3446</td>\n",
       "      <td>3083</td>\n",
       "      <td>1575</td>\n",
       "    </tr>\n",
       "    <tr>\n",
       "      <th>Rondônia</th>\n",
       "      <td>300</td>\n",
       "      <td>246</td>\n",
       "      <td>257</td>\n",
       "      <td>269</td>\n",
       "      <td>295</td>\n",
       "      <td>358</td>\n",
       "      <td>450</td>\n",
       "      <td>480</td>\n",
       "      <td>414</td>\n",
       "      <td>295</td>\n",
       "      <td>...</td>\n",
       "      <td>366</td>\n",
       "      <td>446</td>\n",
       "      <td>427</td>\n",
       "      <td>812</td>\n",
       "      <td>736</td>\n",
       "      <td>645</td>\n",
       "      <td>533</td>\n",
       "      <td>392</td>\n",
       "      <td>350</td>\n",
       "      <td>304</td>\n",
       "    </tr>\n",
       "    <tr>\n",
       "      <th>Acre</th>\n",
       "      <td>157</td>\n",
       "      <td>152</td>\n",
       "      <td>180</td>\n",
       "      <td>138</td>\n",
       "      <td>158</td>\n",
       "      <td>191</td>\n",
       "      <td>192</td>\n",
       "      <td>163</td>\n",
       "      <td>136</td>\n",
       "      <td>173</td>\n",
       "      <td>...</td>\n",
       "      <td>147</td>\n",
       "      <td>143</td>\n",
       "      <td>188</td>\n",
       "      <td>205</td>\n",
       "      <td>335</td>\n",
       "      <td>309</td>\n",
       "      <td>121</td>\n",
       "      <td>223</td>\n",
       "      <td>182</td>\n",
       "      <td>-</td>\n",
       "    </tr>\n",
       "    <tr>\n",
       "      <th>Amazonas</th>\n",
       "      <td>520</td>\n",
       "      <td>595</td>\n",
       "      <td>507</td>\n",
       "      <td>629</td>\n",
       "      <td>1484</td>\n",
       "      <td>1465</td>\n",
       "      <td>916</td>\n",
       "      <td>657</td>\n",
       "      <td>673</td>\n",
       "      <td>609</td>\n",
       "      <td>...</td>\n",
       "      <td>607</td>\n",
       "      <td>1338</td>\n",
       "      <td>1637</td>\n",
       "      <td>1898</td>\n",
       "      <td>1218</td>\n",
       "      <td>897</td>\n",
       "      <td>881</td>\n",
       "      <td>854</td>\n",
       "      <td>684</td>\n",
       "      <td>585</td>\n",
       "    </tr>\n",
       "    <tr>\n",
       "      <th>Roraima</th>\n",
       "      <td>105</td>\n",
       "      <td>106</td>\n",
       "      <td>107</td>\n",
       "      <td>98</td>\n",
       "      <td>177</td>\n",
       "      <td>328</td>\n",
       "      <td>177</td>\n",
       "      <td>85</td>\n",
       "      <td>107</td>\n",
       "      <td>114</td>\n",
       "      <td>...</td>\n",
       "      <td>127</td>\n",
       "      <td>190</td>\n",
       "      <td>322</td>\n",
       "      <td>299</td>\n",
       "      <td>210</td>\n",
       "      <td>168</td>\n",
       "      <td>180</td>\n",
       "      <td>188</td>\n",
       "      <td>190</td>\n",
       "      <td>156</td>\n",
       "    </tr>\n",
       "  </tbody>\n",
       "</table>\n",
       "<p>5 rows × 21 columns</p>\n",
       "</div>"
      ],
      "text/plain": [
       "                             2020/Jan  2020/Fev  2020/Mar  2020/Abr  2020/Mai  \\\n",
       "Região/Unidade da Federação                                                     \n",
       "Região Norte                     2393      2395      2345      2335      3903   \n",
       "Rondônia                          300       246       257       269       295   \n",
       "Acre                              157       152       180       138       158   \n",
       "Amazonas                          520       595       507       629      1484   \n",
       "Roraima                           105       106       107        98       177   \n",
       "\n",
       "                             2020/Jun  2020/Jul  2020/Ago  2020/Set  2020/Out  \\\n",
       "Região/Unidade da Federação                                                     \n",
       "Região Norte                     5025      3842      3632      2948      2587   \n",
       "Rondônia                          358       450       480       414       295   \n",
       "Acre                              191       192       163       136       173   \n",
       "Amazonas                         1465       916       657       673       609   \n",
       "Roraima                           328       177        85       107       114   \n",
       "\n",
       "                             ...  2020/Dez  2021/Jan  2021/Fev  2021/Mar  \\\n",
       "Região/Unidade da Federação  ...                                           \n",
       "Região Norte                 ...      2700      3666      4318      5413   \n",
       "Rondônia                     ...       366       446       427       812   \n",
       "Acre                         ...       147       143       188       205   \n",
       "Amazonas                     ...       607      1338      1637      1898   \n",
       "Roraima                      ...       127       190       322       299   \n",
       "\n",
       "                             2021/Abr  2021/Mai  2021/Jun  2021/Jul  2021/Ago  \\\n",
       "Região/Unidade da Federação                                                     \n",
       "Região Norte                     5196      5131      3910      3446      3083   \n",
       "Rondônia                          736       645       533       392       350   \n",
       "Acre                              335       309       121       223       182   \n",
       "Amazonas                         1218       897       881       854       684   \n",
       "Roraima                           210       168       180       188       190   \n",
       "\n",
       "                             2021/Set  \n",
       "Região/Unidade da Federação            \n",
       "Região Norte                     1575  \n",
       "Rondônia                          304  \n",
       "Acre                                -  \n",
       "Amazonas                          585  \n",
       "Roraima                           156  \n",
       "\n",
       "[5 rows x 21 columns]"
      ]
     },
     "execution_count": 44,
     "metadata": {},
     "output_type": "execute_result"
    }
   ],
   "source": [
    "# obtendo os dados a partir de Março de 2020 até Setembro de 2021\n",
    "colunas = dados_obitos.loc[:,'2020/Jan':'2021/Set'].columns\n",
    "dados_obitos_novos = dados_obitos[colunas]\n",
    "dados_obitos_novos.head()"
   ]
  },
  {
   "cell_type": "code",
   "execution_count": 5,
   "metadata": {},
   "outputs": [],
   "source": [
    "# Filtrando os dados do Distrito Federal e atribuindo a um novo DataFrame\n",
    "dados_obito_sp_geral = dados_obitos_novos.loc['São Paulo']\n",
    "dados_obito_sp_geral = pd.DataFrame(dados_obito_sp_geral)\n"
   ]
  },
  {
   "cell_type": "code",
   "execution_count": 6,
   "metadata": {},
   "outputs": [],
   "source": [
    "# Criando um Dicionário de Dados para formatar a os meses com valores numéricos, facilitando a ordenação \n",
    "# posteriormente\n",
    "dic_mes = {\"2020/Jan\":\"2020/01\", \"2020/Fev\":\"2020/02\", \"2020/Mar\":\"2020/03\", \"2020/Abr\":\"2020/04\", \n",
    "           \"2020/Mai\":\"2020/05\",\"2020/Jun\":\"2020/06\", \n",
    "           \"2020/Jul\":\"2020/07\", \"2020/Ago\":\"2020/08\", \"2020/Set\":\"2020/09\", \n",
    "           \"2020/Out\":\"2020/10\", \"2020/Nov\":\"2020/11\", \"2020/Dez\":\"2020/12\",\n",
    "           \n",
    "           \"2021/Jan\":\"2021/01\", \"2021/Fev\":\"2021/02\", \"2021/Mar\":\"2021/03\", \"2021/Abr\":\"2021/04\", \n",
    "           \"2021/Mai\":\"2021/05\",\"2021/Jun\":\"2021/06\", \n",
    "           \"2021/Jul\":\"2021/07\", \"2021/Ago\":\"2021/08\", \"2021/Set\":\"2021/09\", \n",
    "           \"2021/Out\":\"2021/10\", \"2021/Nov\":\"2021/11\", \"2021/Dez\":\"2021/12\"\n",
    "}"
   ]
  },
  {
   "cell_type": "code",
   "execution_count": 7,
   "metadata": {},
   "outputs": [],
   "source": [
    "# Alterando os valores do index de acordo com o apresentado no Dicionário de dados\n",
    "dados_obito_sp_geral.index = dados_obito_sp_geral.index.map(dic_mes)"
   ]
  },
  {
   "cell_type": "code",
   "execution_count": 8,
   "metadata": {},
   "outputs": [],
   "source": [
    "# renomeando a coluna\n",
    "dados_obito_sp_geral.rename(columns={\"São Paulo\":\"Obitos Geral\"}, inplace=True)"
   ]
  },
  {
   "cell_type": "code",
   "execution_count": 9,
   "metadata": {},
   "outputs": [
    {
     "name": "stdout",
     "output_type": "stream",
     "text": [
      "<class 'pandas.core.frame.DataFrame'>\n",
      "Index: 21 entries, 2020/01 to 2021/09\n",
      "Data columns (total 1 columns):\n",
      " #   Column        Non-Null Count  Dtype \n",
      "---  ------        --------------  ----- \n",
      " 0   Obitos Geral  21 non-null     object\n",
      "dtypes: object(1)\n",
      "memory usage: 336.0+ bytes\n"
     ]
    }
   ],
   "source": [
    "# Verificando os tipos de dados e convertendo os valores para numericos para gerar os gráficos\n",
    "dados_obito_sp_geral.info()\n",
    "dados_obito_sp_geral = dados_obito_sp_geral.astype(int)"
   ]
  },
  {
   "cell_type": "code",
   "execution_count": 10,
   "metadata": {},
   "outputs": [
    {
     "data": {
      "text/plain": [
       "Index(['2020/01', '2020/02', '2020/03', '2020/04', '2020/05', '2020/06',\n",
       "       '2020/07', '2020/08', '2020/09', '2020/10', '2020/11', '2020/12',\n",
       "       '2021/01', '2021/02', '2021/03', '2021/04', '2021/05', '2021/06',\n",
       "       '2021/07', '2021/08', '2021/09'],\n",
       "      dtype='object')"
      ]
     },
     "execution_count": 10,
     "metadata": {},
     "output_type": "execute_result"
    }
   ],
   "source": [
    "dados_obito_sp_geral.index"
   ]
  },
  {
   "cell_type": "code",
   "execution_count": 46,
   "metadata": {},
   "outputs": [
    {
     "data": {
      "image/png": "[encoded data removed]",
      "text/plain": [
       "<Figure size 1080x504 with 1 Axes>"
      ]
     },
     "metadata": {
      "needs_background": "light"
     },
     "output_type": "display_data"
    }
   ],
   "source": [
    "ax = dados_obito_sp_geral.plot(figsize=(15,7), marker=\"o\")\n",
    "labels = dados_obito_sp_geral.index\n",
    "total = dados_obito_sp_geral.count()[0]\n",
    "valores = np.arange(total)\n",
    "ax.grid()\n",
    "plt.xlabel(\"Ano/Mês\")\n",
    "plt.ylabel(\"Total\")\n",
    "plt.xticks(valores, labels, rotation=90)\n",
    "plt.title(\"Óbitos em São Paulo por Ano/mês de processamento\", fontdict={\"fontsize\":15})\n",
    "plt.show()"
   ]
  },
  {
   "cell_type": "code",
   "execution_count": 47,
   "metadata": {},
   "outputs": [
    {
     "data": {
      "image/png": "[encoded data removed]",
      "text/plain": [
       "<Figure size 1080x504 with 1 Axes>"
      ]
     },
     "metadata": {
      "needs_background": "light"
     },
     "output_type": "display_data"
    }
   ],
   "source": [
    "#Outro gráfico importante para análise dos dados, seria um gráfico de barras\n",
    "ax = dados_obito_sp_geral.plot(kind=\"bar\", figsize=(15,7))\n",
    "plt.title(\"Demostrativo de casos de covid por mês em São Paulo\", fontdict={\"fontsize\":15})\n",
    "plt.grid()\n",
    "plt.show()"
   ]
  },
  {
   "cell_type": "markdown",
   "metadata": {},
   "source": [
    "### Etapa 2: Carregar os dados do portal Corona Vírus Brasil, analisá-los e filtrar as informações do Distrito Federal. Os dados baixados tem as informações diárias de mortes por covid por região, e está divido em 4 arquivos."
   ]
  },
  {
   "cell_type": "code",
   "execution_count": 13,
   "metadata": {},
   "outputs": [],
   "source": [
    "# carregando os dados\n",
    "dados_parte1_2020 = pd.read_csv(\"HIST_PAINEL_COVIDBR_2020_Parte1_13nov2021.csv\", sep=\";\" )\n",
    "dados_parte2_2020 = pd.read_csv(\"HIST_PAINEL_COVIDBR_2020_Parte2_13nov2021.csv\", sep=\";\")\n",
    "\n",
    "dados_parte1_2021 = pd.read_csv(\"HIST_PAINEL_COVIDBR_2021_Parte1_13nov2021.csv\", sep=\";\")\n",
    "dados_parte2_2021 = pd.read_csv(\"HIST_PAINEL_COVIDBR_2021_Parte2_13nov2021.csv\", sep=\";\")"
   ]
  },
  {
   "cell_type": "code",
   "execution_count": 14,
   "metadata": {},
   "outputs": [
    {
     "data": {
      "text/html": [
       "<div>\n",
       "<style scoped>\n",
       "    .dataframe tbody tr th:only-of-type {\n",
       "        vertical-align: middle;\n",
       "    }\n",
       "\n",
       "    .dataframe tbody tr th {\n",
       "        vertical-align: top;\n",
       "    }\n",
       "\n",
       "    .dataframe thead th {\n",
       "        text-align: right;\n",
       "    }\n",
       "</style>\n",
       "<table border=\"1\" class=\"dataframe\">\n",
       "  <thead>\n",
       "    <tr style=\"text-align: right;\">\n",
       "      <th></th>\n",
       "      <th>regiao</th>\n",
       "      <th>estado</th>\n",
       "      <th>municipio</th>\n",
       "      <th>coduf</th>\n",
       "      <th>codmun</th>\n",
       "      <th>codRegiaoSaude</th>\n",
       "      <th>nomeRegiaoSaude</th>\n",
       "      <th>data</th>\n",
       "      <th>semanaEpi</th>\n",
       "      <th>populacaoTCU2019</th>\n",
       "      <th>casosAcumulado</th>\n",
       "      <th>casosNovos</th>\n",
       "      <th>obitosAcumulado</th>\n",
       "      <th>obitosNovos</th>\n",
       "      <th>Recuperadosnovos</th>\n",
       "      <th>emAcompanhamentoNovos</th>\n",
       "      <th>interior/metropolitana</th>\n",
       "    </tr>\n",
       "  </thead>\n",
       "  <tbody>\n",
       "    <tr>\n",
       "      <th>0</th>\n",
       "      <td>Brasil</td>\n",
       "      <td>NaN</td>\n",
       "      <td>NaN</td>\n",
       "      <td>76</td>\n",
       "      <td>NaN</td>\n",
       "      <td>NaN</td>\n",
       "      <td>NaN</td>\n",
       "      <td>2021-07-01</td>\n",
       "      <td>26</td>\n",
       "      <td>210147125.0</td>\n",
       "      <td>18622304</td>\n",
       "      <td>65163</td>\n",
       "      <td>520095</td>\n",
       "      <td>2029</td>\n",
       "      <td>16858632.0</td>\n",
       "      <td>1180443.0</td>\n",
       "      <td>NaN</td>\n",
       "    </tr>\n",
       "    <tr>\n",
       "      <th>1</th>\n",
       "      <td>Brasil</td>\n",
       "      <td>NaN</td>\n",
       "      <td>NaN</td>\n",
       "      <td>76</td>\n",
       "      <td>NaN</td>\n",
       "      <td>NaN</td>\n",
       "      <td>NaN</td>\n",
       "      <td>2021-07-02</td>\n",
       "      <td>26</td>\n",
       "      <td>210147125.0</td>\n",
       "      <td>18687469</td>\n",
       "      <td>65165</td>\n",
       "      <td>521952</td>\n",
       "      <td>1857</td>\n",
       "      <td>16931272.0</td>\n",
       "      <td>1170937.0</td>\n",
       "      <td>NaN</td>\n",
       "    </tr>\n",
       "    <tr>\n",
       "      <th>2</th>\n",
       "      <td>Brasil</td>\n",
       "      <td>NaN</td>\n",
       "      <td>NaN</td>\n",
       "      <td>76</td>\n",
       "      <td>NaN</td>\n",
       "      <td>NaN</td>\n",
       "      <td>NaN</td>\n",
       "      <td>2021-07-03</td>\n",
       "      <td>26</td>\n",
       "      <td>210147125.0</td>\n",
       "      <td>18742025</td>\n",
       "      <td>54556</td>\n",
       "      <td>523587</td>\n",
       "      <td>1635</td>\n",
       "      <td>16989351.0</td>\n",
       "      <td>1176166.0</td>\n",
       "      <td>NaN</td>\n",
       "    </tr>\n",
       "    <tr>\n",
       "      <th>3</th>\n",
       "      <td>Brasil</td>\n",
       "      <td>NaN</td>\n",
       "      <td>NaN</td>\n",
       "      <td>76</td>\n",
       "      <td>NaN</td>\n",
       "      <td>NaN</td>\n",
       "      <td>NaN</td>\n",
       "      <td>2021-07-04</td>\n",
       "      <td>27</td>\n",
       "      <td>210147125.0</td>\n",
       "      <td>18769808</td>\n",
       "      <td>27783</td>\n",
       "      <td>524417</td>\n",
       "      <td>830</td>\n",
       "      <td>17033808.0</td>\n",
       "      <td>1184630.0</td>\n",
       "      <td>NaN</td>\n",
       "    </tr>\n",
       "    <tr>\n",
       "      <th>4</th>\n",
       "      <td>Brasil</td>\n",
       "      <td>NaN</td>\n",
       "      <td>NaN</td>\n",
       "      <td>76</td>\n",
       "      <td>NaN</td>\n",
       "      <td>NaN</td>\n",
       "      <td>NaN</td>\n",
       "      <td>2021-07-05</td>\n",
       "      <td>27</td>\n",
       "      <td>210147125.0</td>\n",
       "      <td>18792511</td>\n",
       "      <td>22703</td>\n",
       "      <td>525112</td>\n",
       "      <td>695</td>\n",
       "      <td>17082876.0</td>\n",
       "      <td>1162515.0</td>\n",
       "      <td>NaN</td>\n",
       "    </tr>\n",
       "  </tbody>\n",
       "</table>\n",
       "</div>"
      ],
      "text/plain": [
       "   regiao estado municipio  coduf  codmun  codRegiaoSaude nomeRegiaoSaude  \\\n",
       "0  Brasil    NaN       NaN     76     NaN             NaN             NaN   \n",
       "1  Brasil    NaN       NaN     76     NaN             NaN             NaN   \n",
       "2  Brasil    NaN       NaN     76     NaN             NaN             NaN   \n",
       "3  Brasil    NaN       NaN     76     NaN             NaN             NaN   \n",
       "4  Brasil    NaN       NaN     76     NaN             NaN             NaN   \n",
       "\n",
       "         data  semanaEpi  populacaoTCU2019  casosAcumulado  casosNovos  \\\n",
       "0  2021-07-01         26       210147125.0        18622304       65163   \n",
       "1  2021-07-02         26       210147125.0        18687469       65165   \n",
       "2  2021-07-03         26       210147125.0        18742025       54556   \n",
       "3  2021-07-04         27       210147125.0        18769808       27783   \n",
       "4  2021-07-05         27       210147125.0        18792511       22703   \n",
       "\n",
       "   obitosAcumulado  obitosNovos  Recuperadosnovos  emAcompanhamentoNovos  \\\n",
       "0           520095         2029        16858632.0              1180443.0   \n",
       "1           521952         1857        16931272.0              1170937.0   \n",
       "2           523587         1635        16989351.0              1176166.0   \n",
       "3           524417          830        17033808.0              1184630.0   \n",
       "4           525112          695        17082876.0              1162515.0   \n",
       "\n",
       "   interior/metropolitana  \n",
       "0                     NaN  \n",
       "1                     NaN  \n",
       "2                     NaN  \n",
       "3                     NaN  \n",
       "4                     NaN  "
      ]
     },
     "execution_count": 14,
     "metadata": {},
     "output_type": "execute_result"
    }
   ],
   "source": [
    "dados_parte2_2021.head()"
   ]
  },
  {
   "cell_type": "code",
   "execution_count": 15,
   "metadata": {},
   "outputs": [],
   "source": [
    "# filtrando os dados de todos os arquivos pelo Distrito Federal\n",
    "dados_sp_parte1_2020 = dados_parte1_2020.query('nomeRegiaoSaude == \"SAO PAULO\"')\n",
    "dados_sp_parte2_2020 = dados_parte2_2020.query('nomeRegiaoSaude == \"SAO PAULO\"')\n",
    "dados_sp_parte1_2021 = dados_parte1_2021.query('nomeRegiaoSaude == \"SAO PAULO\"')\n",
    "dados_sp_parte2_2021 = dados_parte2_2021.query('nomeRegiaoSaude == \"SAO PAULO\"')\n"
   ]
  },
  {
   "cell_type": "code",
   "execution_count": 16,
   "metadata": {},
   "outputs": [],
   "source": [
    "# Consolidando os dados em um único DataFrame\n",
    "\n",
    "dados_sp = dados_sp_parte1_2020.append(dados_sp_parte2_2020).append(dados_sp_parte1_2021).append(dados_sp_parte2_2021)"
   ]
  },
  {
   "cell_type": "code",
   "execution_count": 17,
   "metadata": {},
   "outputs": [
    {
     "name": "stdout",
     "output_type": "stream",
     "text": [
      "<class 'pandas.core.frame.DataFrame'>\n",
      "Int64Index: 597 entries, 492739 to 526863\n",
      "Data columns (total 17 columns):\n",
      " #   Column                  Non-Null Count  Dtype  \n",
      "---  ------                  --------------  -----  \n",
      " 0   regiao                  597 non-null    object \n",
      " 1   estado                  597 non-null    object \n",
      " 2   municipio               597 non-null    object \n",
      " 3   coduf                   597 non-null    int64  \n",
      " 4   codmun                  597 non-null    float64\n",
      " 5   codRegiaoSaude          597 non-null    float64\n",
      " 6   nomeRegiaoSaude         597 non-null    object \n",
      " 7   data                    597 non-null    object \n",
      " 8   semanaEpi               597 non-null    int64  \n",
      " 9   populacaoTCU2019        597 non-null    float64\n",
      " 10  casosAcumulado          597 non-null    float64\n",
      " 11  casosNovos              597 non-null    int64  \n",
      " 12  obitosAcumulado         597 non-null    int64  \n",
      " 13  obitosNovos             597 non-null    int64  \n",
      " 14  Recuperadosnovos        0 non-null      float64\n",
      " 15  emAcompanhamentoNovos   0 non-null      float64\n",
      " 16  interior/metropolitana  597 non-null    float64\n",
      "dtypes: float64(7), int64(5), object(5)\n",
      "memory usage: 84.0+ KB\n"
     ]
    }
   ],
   "source": [
    "# Visualizando os tipos de dados da colunas do DataFrame\n",
    "dados_sp.info()"
   ]
  },
  {
   "cell_type": "code",
   "execution_count": 18,
   "metadata": {},
   "outputs": [],
   "source": [
    "# Convertendo a coluna data em formato data\n",
    "dados_sp['data'] = pd.to_datetime(dados_sp['data'])"
   ]
  },
  {
   "cell_type": "code",
   "execution_count": 19,
   "metadata": {},
   "outputs": [],
   "source": [
    "# Na coluna data, vamos retirar o dia do mês para podermos fazer um agrupamento e soma de todos os óbitos\n",
    "dados_sp['data'] = dados_sp['data'].dt.strftime(\"%Y/%m\")"
   ]
  },
  {
   "cell_type": "code",
   "execution_count": 20,
   "metadata": {},
   "outputs": [
    {
     "data": {
      "text/html": [
       "<div>\n",
       "<style scoped>\n",
       "    .dataframe tbody tr th:only-of-type {\n",
       "        vertical-align: middle;\n",
       "    }\n",
       "\n",
       "    .dataframe tbody tr th {\n",
       "        vertical-align: top;\n",
       "    }\n",
       "\n",
       "    .dataframe thead th {\n",
       "        text-align: right;\n",
       "    }\n",
       "</style>\n",
       "<table border=\"1\" class=\"dataframe\">\n",
       "  <thead>\n",
       "    <tr style=\"text-align: right;\">\n",
       "      <th></th>\n",
       "      <th>regiao</th>\n",
       "      <th>estado</th>\n",
       "      <th>municipio</th>\n",
       "      <th>coduf</th>\n",
       "      <th>codmun</th>\n",
       "      <th>codRegiaoSaude</th>\n",
       "      <th>nomeRegiaoSaude</th>\n",
       "      <th>data</th>\n",
       "      <th>semanaEpi</th>\n",
       "      <th>populacaoTCU2019</th>\n",
       "      <th>casosAcumulado</th>\n",
       "      <th>casosNovos</th>\n",
       "      <th>obitosAcumulado</th>\n",
       "      <th>obitosNovos</th>\n",
       "      <th>Recuperadosnovos</th>\n",
       "      <th>emAcompanhamentoNovos</th>\n",
       "      <th>interior/metropolitana</th>\n",
       "    </tr>\n",
       "  </thead>\n",
       "  <tbody>\n",
       "    <tr>\n",
       "      <th>492739</th>\n",
       "      <td>Sudeste</td>\n",
       "      <td>SP</td>\n",
       "      <td>São Paulo</td>\n",
       "      <td>35</td>\n",
       "      <td>355030.0</td>\n",
       "      <td>35016.0</td>\n",
       "      <td>SAO PAULO</td>\n",
       "      <td>2020/03</td>\n",
       "      <td>13</td>\n",
       "      <td>12252023.0</td>\n",
       "      <td>0.0</td>\n",
       "      <td>0</td>\n",
       "      <td>0</td>\n",
       "      <td>0</td>\n",
       "      <td>NaN</td>\n",
       "      <td>NaN</td>\n",
       "      <td>1.0</td>\n",
       "    </tr>\n",
       "    <tr>\n",
       "      <th>492740</th>\n",
       "      <td>Sudeste</td>\n",
       "      <td>SP</td>\n",
       "      <td>São Paulo</td>\n",
       "      <td>35</td>\n",
       "      <td>355030.0</td>\n",
       "      <td>35016.0</td>\n",
       "      <td>SAO PAULO</td>\n",
       "      <td>2020/03</td>\n",
       "      <td>13</td>\n",
       "      <td>12252023.0</td>\n",
       "      <td>1149.0</td>\n",
       "      <td>1149</td>\n",
       "      <td>76</td>\n",
       "      <td>76</td>\n",
       "      <td>NaN</td>\n",
       "      <td>NaN</td>\n",
       "      <td>1.0</td>\n",
       "    </tr>\n",
       "    <tr>\n",
       "      <th>492741</th>\n",
       "      <td>Sudeste</td>\n",
       "      <td>SP</td>\n",
       "      <td>São Paulo</td>\n",
       "      <td>35</td>\n",
       "      <td>355030.0</td>\n",
       "      <td>35016.0</td>\n",
       "      <td>SAO PAULO</td>\n",
       "      <td>2020/03</td>\n",
       "      <td>14</td>\n",
       "      <td>12252023.0</td>\n",
       "      <td>1183.0</td>\n",
       "      <td>34</td>\n",
       "      <td>89</td>\n",
       "      <td>13</td>\n",
       "      <td>NaN</td>\n",
       "      <td>NaN</td>\n",
       "      <td>1.0</td>\n",
       "    </tr>\n",
       "    <tr>\n",
       "      <th>492742</th>\n",
       "      <td>Sudeste</td>\n",
       "      <td>SP</td>\n",
       "      <td>São Paulo</td>\n",
       "      <td>35</td>\n",
       "      <td>355030.0</td>\n",
       "      <td>35016.0</td>\n",
       "      <td>SAO PAULO</td>\n",
       "      <td>2020/03</td>\n",
       "      <td>14</td>\n",
       "      <td>12252023.0</td>\n",
       "      <td>1233.0</td>\n",
       "      <td>50</td>\n",
       "      <td>103</td>\n",
       "      <td>14</td>\n",
       "      <td>NaN</td>\n",
       "      <td>NaN</td>\n",
       "      <td>1.0</td>\n",
       "    </tr>\n",
       "    <tr>\n",
       "      <th>492743</th>\n",
       "      <td>Sudeste</td>\n",
       "      <td>SP</td>\n",
       "      <td>São Paulo</td>\n",
       "      <td>35</td>\n",
       "      <td>355030.0</td>\n",
       "      <td>35016.0</td>\n",
       "      <td>SAO PAULO</td>\n",
       "      <td>2020/03</td>\n",
       "      <td>14</td>\n",
       "      <td>12252023.0</td>\n",
       "      <td>1885.0</td>\n",
       "      <td>652</td>\n",
       "      <td>121</td>\n",
       "      <td>18</td>\n",
       "      <td>NaN</td>\n",
       "      <td>NaN</td>\n",
       "      <td>1.0</td>\n",
       "    </tr>\n",
       "  </tbody>\n",
       "</table>\n",
       "</div>"
      ],
      "text/plain": [
       "         regiao estado  municipio  coduf    codmun  codRegiaoSaude  \\\n",
       "492739  Sudeste     SP  São Paulo     35  355030.0         35016.0   \n",
       "492740  Sudeste     SP  São Paulo     35  355030.0         35016.0   \n",
       "492741  Sudeste     SP  São Paulo     35  355030.0         35016.0   \n",
       "492742  Sudeste     SP  São Paulo     35  355030.0         35016.0   \n",
       "492743  Sudeste     SP  São Paulo     35  355030.0         35016.0   \n",
       "\n",
       "       nomeRegiaoSaude     data  semanaEpi  populacaoTCU2019  casosAcumulado  \\\n",
       "492739       SAO PAULO  2020/03         13        12252023.0             0.0   \n",
       "492740       SAO PAULO  2020/03         13        12252023.0          1149.0   \n",
       "492741       SAO PAULO  2020/03         14        12252023.0          1183.0   \n",
       "492742       SAO PAULO  2020/03         14        12252023.0          1233.0   \n",
       "492743       SAO PAULO  2020/03         14        12252023.0          1885.0   \n",
       "\n",
       "        casosNovos  obitosAcumulado  obitosNovos  Recuperadosnovos  \\\n",
       "492739           0                0            0               NaN   \n",
       "492740        1149               76           76               NaN   \n",
       "492741          34               89           13               NaN   \n",
       "492742          50              103           14               NaN   \n",
       "492743         652              121           18               NaN   \n",
       "\n",
       "        emAcompanhamentoNovos  interior/metropolitana  \n",
       "492739                    NaN                     1.0  \n",
       "492740                    NaN                     1.0  \n",
       "492741                    NaN                     1.0  \n",
       "492742                    NaN                     1.0  \n",
       "492743                    NaN                     1.0  "
      ]
     },
     "execution_count": 20,
     "metadata": {},
     "output_type": "execute_result"
    }
   ],
   "source": [
    "dados_sp.head()"
   ]
  },
  {
   "cell_type": "code",
   "execution_count": 21,
   "metadata": {},
   "outputs": [],
   "source": [
    "# Alterando o DataFrame e filtrando somente as colunas de data e casos novos de covid\n",
    "dados_sp = dados_sp[['data', 'obitosNovos']]"
   ]
  },
  {
   "cell_type": "code",
   "execution_count": 22,
   "metadata": {},
   "outputs": [],
   "source": [
    "# Agrupando os dados pela data e somando os casos de óbitos e atribuindo a um novo DataFrame\n",
    "dados_obito_sp_covid = dados_sp.sort_values('data').groupby('data').sum()"
   ]
  },
  {
   "cell_type": "code",
   "execution_count": 23,
   "metadata": {},
   "outputs": [],
   "source": [
    "# Renomeando a coluna e o índice\n",
    "dados_obito_sp_covid.rename(columns={\"obitosNovos\":\"Obitos Covid\"}, inplace=True)\n",
    "dados_obito_sp_covid.index.rename(\"\", inplace=True)"
   ]
  },
  {
   "cell_type": "code",
   "execution_count": 24,
   "metadata": {},
   "outputs": [
    {
     "name": "stdout",
     "output_type": "stream",
     "text": [
      "<class 'pandas.core.frame.DataFrame'>\n",
      "Index: 21 entries, 2020/03 to 2021/11\n",
      "Data columns (total 1 columns):\n",
      " #   Column        Non-Null Count  Dtype\n",
      "---  ------        --------------  -----\n",
      " 0   Obitos Covid  21 non-null     int64\n",
      "dtypes: int64(1)\n",
      "memory usage: 336.0+ bytes\n"
     ]
    }
   ],
   "source": [
    "# Verificando os tipos de dados do DataFrame\n",
    "dados_obito_sp_covid.info()"
   ]
  },
  {
   "cell_type": "code",
   "execution_count": 25,
   "metadata": {},
   "outputs": [
    {
     "data": {
      "text/plain": [
       "Obitos Covid    39023\n",
       "dtype: int64"
      ]
     },
     "execution_count": 25,
     "metadata": {},
     "output_type": "execute_result"
    }
   ],
   "source": [
    "dados_obito_sp_covid.sum()"
   ]
  },
  {
   "cell_type": "code",
   "execution_count": 48,
   "metadata": {},
   "outputs": [
    {
     "data": {
      "image/png": "[encoded data removed]",
      "text/plain": [
       "<Figure size 1080x504 with 1 Axes>"
      ]
     },
     "metadata": {
      "needs_background": "light"
     },
     "output_type": "display_data"
    }
   ],
   "source": [
    "# analisando os dados de morte por covid em um gráfico de linhas\n",
    "total_registros = dados_obito_sp_covid.count()[0]\n",
    "ax = dados_obito_sp_covid.plot(figsize=(15,7), marker=\"o\")\n",
    "quantidade_ticks_x = np.arange(total_registros)\n",
    "labels = dados_obito_sp_covid.index\n",
    "plt.xlabel(\"Ano/Mês\")\n",
    "plt.ylabel(\"Total\")\n",
    "plt.grid()\n",
    "plt.xticks(quantidade_ticks_x, labels, rotation=90)\n",
    "plt.title(\"Número de óbitos por covid por mês na cidade de São Paulo\", fontdict={\"fontsize\":15})\n",
    "plt.show()"
   ]
  },
  {
   "cell_type": "code",
   "execution_count": 38,
   "metadata": {},
   "outputs": [
    {
     "data": {
      "image/png": "[encoded data removed]",
      "text/plain": [
       "<Figure size 1080x504 with 1 Axes>"
      ]
     },
     "metadata": {
      "needs_background": "light"
     },
     "output_type": "display_data"
    }
   ],
   "source": [
    "# analisando os dados em um gráfico de barras\n",
    "ax = dados_obito_sp_covid.plot(kind=\"bar\", figsize=(15,7))\n",
    "plt.title('Demonstrativo de mortes por covid em São Paulo entre Março/2020 e Novembro/2021', fontdict={\"fontsize\":15} )\n",
    "plt.show()"
   ]
  },
  {
   "cell_type": "markdown",
   "metadata": {},
   "source": [
    "### Etapa 3:  Comparação entre as mortes em geral X mortes por covid em São Paulo"
   ]
  },
  {
   "cell_type": "code",
   "execution_count": 28,
   "metadata": {},
   "outputs": [],
   "source": [
    "# Renomeando os índices\n",
    "dados_obito_sp_covid.index.rename(\"data\", inplace=True)\n",
    "dados_obito_sp_geral.index.rename(\"data\", inplace=True)"
   ]
  },
  {
   "cell_type": "code",
   "execution_count": 29,
   "metadata": {},
   "outputs": [],
   "source": [
    "# Criando um terceiro DataFrame do resultado do merge entre mortes por covid e mortes em geral\n",
    "\n",
    "resultado_final = pd.merge(dados_obito_sp_geral, dados_obito_sp_covid,  left_index=True, right_index=True )"
   ]
  },
  {
   "cell_type": "code",
   "execution_count": 30,
   "metadata": {},
   "outputs": [
    {
     "data": {
      "text/html": [
       "<div>\n",
       "<style scoped>\n",
       "    .dataframe tbody tr th:only-of-type {\n",
       "        vertical-align: middle;\n",
       "    }\n",
       "\n",
       "    .dataframe tbody tr th {\n",
       "        vertical-align: top;\n",
       "    }\n",
       "\n",
       "    .dataframe thead th {\n",
       "        text-align: right;\n",
       "    }\n",
       "</style>\n",
       "<table border=\"1\" class=\"dataframe\">\n",
       "  <thead>\n",
       "    <tr style=\"text-align: right;\">\n",
       "      <th></th>\n",
       "      <th>Obitos Geral</th>\n",
       "      <th>Obitos Covid</th>\n",
       "    </tr>\n",
       "    <tr>\n",
       "      <th>data</th>\n",
       "      <th></th>\n",
       "      <th></th>\n",
       "    </tr>\n",
       "  </thead>\n",
       "  <tbody>\n",
       "    <tr>\n",
       "      <th>2020/03</th>\n",
       "      <td>10595</td>\n",
       "      <td>121</td>\n",
       "    </tr>\n",
       "    <tr>\n",
       "      <th>2020/04</th>\n",
       "      <td>10479</td>\n",
       "      <td>1401</td>\n",
       "    </tr>\n",
       "    <tr>\n",
       "      <th>2020/05</th>\n",
       "      <td>12136</td>\n",
       "      <td>2758</td>\n",
       "    </tr>\n",
       "    <tr>\n",
       "      <th>2020/06</th>\n",
       "      <td>13349</td>\n",
       "      <td>2882</td>\n",
       "    </tr>\n",
       "    <tr>\n",
       "      <th>2020/07</th>\n",
       "      <td>14906</td>\n",
       "      <td>2387</td>\n",
       "    </tr>\n",
       "    <tr>\n",
       "      <th>2020/08</th>\n",
       "      <td>13496</td>\n",
       "      <td>1859</td>\n",
       "    </tr>\n",
       "    <tr>\n",
       "      <th>2020/09</th>\n",
       "      <td>12916</td>\n",
       "      <td>1322</td>\n",
       "    </tr>\n",
       "    <tr>\n",
       "      <th>2020/10</th>\n",
       "      <td>12823</td>\n",
       "      <td>867</td>\n",
       "    </tr>\n",
       "    <tr>\n",
       "      <th>2020/11</th>\n",
       "      <td>11537</td>\n",
       "      <td>804</td>\n",
       "    </tr>\n",
       "    <tr>\n",
       "      <th>2020/12</th>\n",
       "      <td>11707</td>\n",
       "      <td>1278</td>\n",
       "    </tr>\n",
       "    <tr>\n",
       "      <th>2021/01</th>\n",
       "      <td>13482</td>\n",
       "      <td>1654</td>\n",
       "    </tr>\n",
       "    <tr>\n",
       "      <th>2021/02</th>\n",
       "      <td>13176</td>\n",
       "      <td>1309</td>\n",
       "    </tr>\n",
       "    <tr>\n",
       "      <th>2021/03</th>\n",
       "      <td>17765</td>\n",
       "      <td>3486</td>\n",
       "    </tr>\n",
       "    <tr>\n",
       "      <th>2021/04</th>\n",
       "      <td>20549</td>\n",
       "      <td>5240</td>\n",
       "    </tr>\n",
       "    <tr>\n",
       "      <th>2021/05</th>\n",
       "      <td>18947</td>\n",
       "      <td>3228</td>\n",
       "    </tr>\n",
       "    <tr>\n",
       "      <th>2021/06</th>\n",
       "      <td>19069</td>\n",
       "      <td>2914</td>\n",
       "    </tr>\n",
       "    <tr>\n",
       "      <th>2021/07</th>\n",
       "      <td>17496</td>\n",
       "      <td>1940</td>\n",
       "    </tr>\n",
       "    <tr>\n",
       "      <th>2021/08</th>\n",
       "      <td>14736</td>\n",
       "      <td>1655</td>\n",
       "    </tr>\n",
       "    <tr>\n",
       "      <th>2021/09</th>\n",
       "      <td>12199</td>\n",
       "      <td>1147</td>\n",
       "    </tr>\n",
       "  </tbody>\n",
       "</table>\n",
       "</div>"
      ],
      "text/plain": [
       "         Obitos Geral  Obitos Covid\n",
       "data                               \n",
       "2020/03         10595           121\n",
       "2020/04         10479          1401\n",
       "2020/05         12136          2758\n",
       "2020/06         13349          2882\n",
       "2020/07         14906          2387\n",
       "2020/08         13496          1859\n",
       "2020/09         12916          1322\n",
       "2020/10         12823           867\n",
       "2020/11         11537           804\n",
       "2020/12         11707          1278\n",
       "2021/01         13482          1654\n",
       "2021/02         13176          1309\n",
       "2021/03         17765          3486\n",
       "2021/04         20549          5240\n",
       "2021/05         18947          3228\n",
       "2021/06         19069          2914\n",
       "2021/07         17496          1940\n",
       "2021/08         14736          1655\n",
       "2021/09         12199          1147"
      ]
     },
     "execution_count": 30,
     "metadata": {},
     "output_type": "execute_result"
    }
   ],
   "source": [
    "resultado_final"
   ]
  },
  {
   "cell_type": "code",
   "execution_count": 37,
   "metadata": {},
   "outputs": [
    {
     "data": {
      "image/png": "[encoded data removed]",
      "text/plain": [
       "<Figure size 1080x504 with 1 Axes>"
      ]
     },
     "metadata": {
      "needs_background": "light"
     },
     "output_type": "display_data"
    }
   ],
   "source": [
    "# Analisando em um gráfico de linhas a quantidade de mortes\n",
    "total_registros = resultado_final.count()[0]\n",
    "labels = resultado_final.index\n",
    "quantidade_ticks_x = np.arange(total_registros)\n",
    "ax = resultado_final.plot( figsize=(15,7), marker=\"o\")\n",
    "plt.grid()\n",
    "plt.xlabel(\"Data\")\n",
    "plt.ylabel(\"Total de Óbitos\")\n",
    "plt.xticks(quantidade_ticks_x, labels, rotation=90)\n",
    "plt.title(\"Comparativo entre as mortes em geral x mortes por covid entre 03/2000 e 09/2021 em São Paulo\",\n",
    "         fontdict={\"fontsize\":15})\n",
    "plt.show()"
   ]
  },
  {
   "cell_type": "raw",
   "metadata": {},
   "source": []
  },
  {
   "cell_type": "code",
   "execution_count": 36,
   "metadata": {},
   "outputs": [
    {
     "data": {
      "image/png": "[encoded data removed]",
      "text/plain": [
       "<Figure size 1080x720 with 1 Axes>"
      ]
     },
     "metadata": {
      "needs_background": "light"
     },
     "output_type": "display_data"
    }
   ],
   "source": [
    "# Analisando em um gráfico de colunas empilhadas a quantidade de mortes\n",
    "total_registros = resultado_final.count()[0]\n",
    "labels = resultado_final.index\n",
    "quantidade_ticks_x = np.arange(total_registros)\n",
    "plt.figure(figsize=(15,10))\n",
    "plt.barh(labels, resultado_final['Obitos Geral'], color=\"blue\")\n",
    "plt.barh(labels, resultado_final['Obitos Covid'], color=\"red\")\n",
    "plt.legend((\"Obitos Gerais\", \"Obitos por Covid\"))\n",
    "plt.xlabel(\"Total de Obitos\")\n",
    "plt.ylabel(\"Período\")\n",
    "# plt.xticks(quantidade_ticks_x, labels, rotation=90)\n",
    "plt.title(\"Proporção entre obitos gerais e obitos por covid\", fontdict={\"fontsize\":15})\n",
    "plt.show()"
   ]
  },
  {
   "cell_type": "code",
   "execution_count": 33,
   "metadata": {},
   "outputs": [
    {
     "data": {
      "text/plain": [
       "data\n",
       "2020/03     1.14\n",
       "2020/04    13.37\n",
       "2020/05    22.73\n",
       "2020/06    21.59\n",
       "2020/07    16.01\n",
       "2020/08    13.77\n",
       "2020/09    10.24\n",
       "2020/10     6.76\n",
       "2020/11     6.97\n",
       "2020/12    10.92\n",
       "2021/01    12.27\n",
       "2021/02     9.93\n",
       "2021/03    19.62\n",
       "2021/04    25.50\n",
       "2021/05    17.04\n",
       "2021/06    15.28\n",
       "2021/07    11.09\n",
       "2021/08    11.23\n",
       "2021/09     9.40\n",
       "dtype: float64"
      ]
     },
     "execution_count": 33,
     "metadata": {},
     "output_type": "execute_result"
    }
   ],
   "source": [
    "# Calculando o percentual de óbitos por covid em relação aos óbitos em geral por mês\n",
    "percentual_de_mortes_por_covid = resultado_final['Obitos Covid'] / resultado_final['Obitos Geral']\n",
    "percentual_de_mortes_por_covid  = percentual_de_mortes_por_covid.map(lambda x: \"{0:.2f}\".format(x*100)).astype(float)\n",
    "percentual_de_mortes_por_covid"
   ]
  },
  {
   "cell_type": "code",
   "execution_count": 34,
   "metadata": {},
   "outputs": [
    {
     "name": "stdout",
     "output_type": "stream",
     "text": [
      "13.413684210526316\n",
      "Obitos Geral    271363\n",
      "Obitos Covid     38252\n",
      "dtype: int64\n"
     ]
    }
   ],
   "source": [
    "# Média geral de óbitos por covid em comparação aos óbitos por causas gerais\n",
    "print(percentual_de_mortes_por_covid.mean())\n",
    "print(resultado_final.sum())\n"
   ]
  },
  {
   "cell_type": "code",
   "execution_count": 35,
   "metadata": {},
   "outputs": [
    {
     "data": {
      "image/png": "[encoded data removed]",
      "text/plain": [
       "<Figure size 1080x504 with 1 Axes>"
      ]
     },
     "metadata": {
      "needs_background": "light"
     },
     "output_type": "display_data"
    }
   ],
   "source": [
    "ax = percentual_de_mortes_por_covid.plot(kind=\"bar\", figsize=(15,7), )\n",
    "plt.title(\"Percentual de obitos por covid em São Paulo em relação ao total de obitos\", fontdict={\"fontsize\":15} )\n",
    "plt.xlabel(\"Data\")\n",
    "plt.ylabel(\"Percentual\")\n",
    "plt.grid()"
   ]
  },
  {
   "cell_type": "markdown",
   "metadata": {},
   "source": [
    "# Conclusão:\n",
    "\n",
    "Com as informações acima, podemos levantar as seguintes hipóteses:\n",
    "\n",
    "* A infecções por Covid causaram um grande impacto no número geral de óbitos durante essa pandemia em São Paulo. Em alguns meses, o percentual de óbitos chegou a mais de 25% em relação ao total de óbitos por causas gerais, como podemos observar em abril de 2021. \n",
    "* Outra hipótese levantada, é comprovar a eficácia da vacina na população, já que no último mês (última atualização), setembro de 2021, o percentual de óbitos por covid caiu para 9,40%.\n",
    "* No gráfico de colunas empilhadas podemos observar com mais clareza a proporção de óbitos por covid em relação aos óbitos gerais.\n",
    "* Em média geral, as infecções por covid foram responsáveis por 13,41% das mortes em São Paulo no período de 03/2020 até 09/2021.\n",
    "* No gráfico de barras empilhadas, podemos verificar claramente que ouveram 2 ondas de infecção, em que a segunda onda começou a ganhar força em março de 2021, e começou a regredir em maio de 2021, provavelmente devido ao resultado da vacinação.\n",
    "\n",
    "O trabalho realizado e as hipósteses lenvantadas, poderiam ser mais precisos caso as informações de óbitos informados pelo DATASUS através do TABNET, fossem computados no dia exato da morte ao invés do dia do processamento, já que o paciente pode ter entrado em óbito no mês atual, e o processamento desse óbito ser concluído somente no mês seguinte.\n",
    "\n",
    "\n"
   ]
  },
  {
   "cell_type": "code",
   "execution_count": null,
   "metadata": {},
   "outputs": [],
   "source": []
  }
 ],
 "metadata": {
  "kernelspec": {
   "display_name": "Python 3",
   "language": "python",
   "name": "python3"
  },
  "language_info": {
   "codemirror_mode": {
    "name": "ipython",
    "version": 3
   },
   "file_extension": ".py",
   "mimetype": "text/x-python",
   "name": "python",
   "nbconvert_exporter": "python",
   "pygments_lexer": "ipython3",
   "version": "3.7.3"
  }
 },
 "nbformat": 4,
 "nbformat_minor": 2
}
